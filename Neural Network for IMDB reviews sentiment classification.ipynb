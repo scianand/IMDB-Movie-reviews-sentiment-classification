{
 "cells": [
  {
   "cell_type": "code",
   "execution_count": 1,
   "metadata": {},
   "outputs": [],
   "source": [
    "import matplotlib.pyplot as plt\n",
    "import numpy as np"
   ]
  },
  {
   "cell_type": "code",
   "execution_count": 2,
   "metadata": {},
   "outputs": [
    {
     "name": "stderr",
     "output_type": "stream",
     "text": [
      "Using TensorFlow backend.\n"
     ]
    }
   ],
   "source": [
    "# Get IMDB data\n",
    "from keras.datasets import imdb\n",
    "(x_train, y_train), (x_test, y_test) = imdb.load_data(num_words=5000)"
   ]
  },
  {
   "cell_type": "code",
   "execution_count": 3,
   "metadata": {},
   "outputs": [
    {
     "name": "stdout",
     "output_type": "stream",
     "text": [
      "(25000,)\n",
      "(25000,)\n",
      "(25000,)\n",
      "(25000,)\n"
     ]
    }
   ],
   "source": [
    "print(x_train.shape)\n",
    "print(x_test.shape)\n",
    "print(y_train.shape)\n",
    "print(y_test.shape)"
   ]
  },
  {
   "cell_type": "code",
   "execution_count": 5,
   "metadata": {},
   "outputs": [],
   "source": [
    "from keras.preprocessing.text import Tokenizer\n",
    "tokenizer = Tokenizer(num_words=5000)\n",
    "x_train_new = tokenizer.sequences_to_matrix(x_train, mode='binary')\n",
    "x_test_new = tokenizer.sequences_to_matrix(x_test, mode='binary')"
   ]
  },
  {
   "cell_type": "code",
   "execution_count": 6,
   "metadata": {},
   "outputs": [],
   "source": [
    "# one hot encoding\n",
    "from keras.utils import to_categorical\n",
    "num_classes = 2\n",
    "y_train = to_categorical(y_train, num_classes)\n",
    "y_test = to_categorical(y_test, num_classes)"
   ]
  },
  {
   "cell_type": "code",
   "execution_count": 7,
   "metadata": {},
   "outputs": [],
   "source": [
    "# Importing Keras Models\n",
    "from keras.models import Sequential\n",
    "from keras.layers import Dense, Dropout, Activation"
   ]
  },
  {
   "cell_type": "code",
   "execution_count": 10,
   "metadata": {},
   "outputs": [
    {
     "name": "stdout",
     "output_type": "stream",
     "text": [
      "_________________________________________________________________\n",
      "Layer (type)                 Output Shape              Param #   \n",
      "=================================================================\n",
      "dense_1 (Dense)              (None, 256)               1280256   \n",
      "_________________________________________________________________\n",
      "dense_2 (Dense)              (None, 128)               32896     \n",
      "_________________________________________________________________\n",
      "dense_3 (Dense)              (None, 64)                8256      \n",
      "_________________________________________________________________\n",
      "dense_4 (Dense)              (None, 2)                 130       \n",
      "=================================================================\n",
      "Total params: 1,321,538\n",
      "Trainable params: 1,321,538\n",
      "Non-trainable params: 0\n",
      "_________________________________________________________________\n"
     ]
    }
   ],
   "source": [
    "# Create Neural Network \n",
    "model = Sequential()\n",
    "model.add(Dense(256, activation='relu', input_shape=(x_train_new.shape[1],)))\n",
    "model.add(Dense(128, activation='relu'))\n",
    "model.add(Dense(64, activation='relu'))\n",
    "#model.add(Dropout(.5))\n",
    "model.add(Dense(num_classes, activation='softmax'))\n",
    "model.compile(loss = 'categorical_crossentropy', optimizer='adam', metrics=['accuracy'])\n",
    "model.summary()"
   ]
  },
  {
   "cell_type": "code",
   "execution_count": 13,
   "metadata": {},
   "outputs": [
    {
     "name": "stdout",
     "output_type": "stream",
     "text": [
      "Train on 15000 samples, validate on 10000 samples\n",
      "Epoch 1/10\n",
      "15000/15000 [==============================] - 4s 287us/step - loss: 1.4446e-05 - acc: 1.0000 - val_loss: 1.0287 - val_acc: 0.8670\n",
      "Epoch 2/10\n",
      "15000/15000 [==============================] - 4s 270us/step - loss: 1.1511e-05 - acc: 1.0000 - val_loss: 1.0418 - val_acc: 0.8678\n",
      "Epoch 3/10\n",
      "15000/15000 [==============================] - 4s 298us/step - loss: 9.3734e-06 - acc: 1.0000 - val_loss: 1.0534 - val_acc: 0.8678\n",
      "Epoch 4/10\n",
      "15000/15000 [==============================] - 5s 361us/step - loss: 7.7744e-06 - acc: 1.0000 - val_loss: 1.0642 - val_acc: 0.8678\n",
      "Epoch 5/10\n",
      "15000/15000 [==============================] - 5s 312us/step - loss: 6.5245e-06 - acc: 1.0000 - val_loss: 1.0742 - val_acc: 0.8681\n",
      "Epoch 6/10\n",
      "15000/15000 [==============================] - 5s 310us/step - loss: 5.5340e-06 - acc: 1.0000 - val_loss: 1.0835 - val_acc: 0.8679\n",
      "Epoch 7/10\n",
      "15000/15000 [==============================] - 5s 347us/step - loss: 4.7359e-06 - acc: 1.0000 - val_loss: 1.0924 - val_acc: 0.8680\n",
      "Epoch 8/10\n",
      "15000/15000 [==============================] - 5s 329us/step - loss: 4.0763e-06 - acc: 1.0000 - val_loss: 1.1009 - val_acc: 0.8677\n",
      "Epoch 9/10\n",
      "15000/15000 [==============================] - 4s 299us/step - loss: 3.5324e-06 - acc: 1.0000 - val_loss: 1.1091 - val_acc: 0.8676\n",
      "Epoch 10/10\n",
      "15000/15000 [==============================] - 5s 333us/step - loss: 3.0816e-06 - acc: 1.0000 - val_loss: 1.1169 - val_acc: 0.8675\n"
     ]
    },
    {
     "data": {
      "text/plain": [
       "<keras.callbacks.History at 0x15518aebf28>"
      ]
     },
     "execution_count": 13,
     "metadata": {},
     "output_type": "execute_result"
    }
   ],
   "source": [
    "# Train the model: 5 epochs\n",
    "model.fit(x_train_new, y_train, epochs=10, batch_size=100, verbose=1, validation_split=0.4)"
   ]
  },
  {
   "cell_type": "code",
   "execution_count": 14,
   "metadata": {},
   "outputs": [
    {
     "name": "stdout",
     "output_type": "stream",
     "text": [
      "25000/25000 [==============================] - 2s 81us/step\n",
      "Training Accuracy: 0.947\n",
      "25000/25000 [==============================] - 3s 101us/step\n",
      "Testing Accuracy: 0.86192\n"
     ]
    }
   ],
   "source": [
    "# Training and Testing Accuracy\n",
    "train_acc = model.evaluate(x_train_new, y_train)\n",
    "print(\"Training Accuracy:\", train_acc[1])\n",
    "test_acc = model.evaluate(x_test_new, y_test)\n",
    "print(\"Testing Accuracy:\", test_acc[1])"
   ]
  },
  {
   "cell_type": "code",
   "execution_count": null,
   "metadata": {},
   "outputs": [],
   "source": []
  }
 ],
 "metadata": {
  "kernelspec": {
   "display_name": "Python 3",
   "language": "python",
   "name": "python3"
  },
  "language_info": {
   "codemirror_mode": {
    "name": "ipython",
    "version": 3
   },
   "file_extension": ".py",
   "mimetype": "text/x-python",
   "name": "python",
   "nbconvert_exporter": "python",
   "pygments_lexer": "ipython3",
   "version": "3.6.7"
  }
 },
 "nbformat": 4,
 "nbformat_minor": 2
}
